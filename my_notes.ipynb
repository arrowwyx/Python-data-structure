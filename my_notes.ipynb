{
 "cells": [
  {
   "cell_type": "code",
   "execution_count": 2,
   "metadata": {},
   "outputs": [],
   "source": [
    "from data_structure import stack\n",
    "from data_structure import Queue\n",
    "from data_structure import Deque"
   ]
  },
  {
   "cell_type": "markdown",
   "metadata": {},
   "source": [
    "# 栈的应用"
   ]
  },
  {
   "cell_type": "markdown",
   "metadata": {},
   "source": [
    "## 匹配括号问题 (Leetcode 20)"
   ]
  },
  {
   "cell_type": "code",
   "execution_count": 7,
   "metadata": {},
   "outputs": [
    {
     "data": {
      "text/plain": [
       "True"
      ]
     },
     "execution_count": 7,
     "metadata": {},
     "output_type": "execute_result"
    }
   ],
   "source": [
    "def parchecker(symbolString):\n",
    "    s = stack()\n",
    "    balanced = True\n",
    "    index = 0\n",
    "    while index < len(symbolString) and balanced:\n",
    "        symbol = symbolString[index]\n",
    "        if symbol in '([{':\n",
    "            s.push(symbol)\n",
    "        else:\n",
    "            if s.isempty():\n",
    "                balanced = False\n",
    "            else:\n",
    "                top = s.pop()\n",
    "                if not matches(top,symbol):\n",
    "                    balanced = False\n",
    "        index += 1\n",
    "    \n",
    "    if balanced and s.isempty():\n",
    "        return True\n",
    "    else:\n",
    "        return False\n",
    "    \n",
    "def matches(open, close):\n",
    "    opens ='([{'\n",
    "    closers = ')]}'\n",
    "    return opens.index(open) == closers.index(close)\n",
    "\n",
    "parchecker('((()))')"
   ]
  },
  {
   "cell_type": "markdown",
   "metadata": {},
   "source": [
    "## 十进制转换为任意进制"
   ]
  },
  {
   "cell_type": "code",
   "execution_count": 8,
   "metadata": {},
   "outputs": [
    {
     "data": {
      "text/plain": [
       "'1100100'"
      ]
     },
     "execution_count": 8,
     "metadata": {},
     "output_type": "execute_result"
    }
   ],
   "source": [
    "def baseconverter(decNumber,base):\n",
    "    digits = '0123456789ABCDEF'\n",
    "\n",
    "    remstack = stack()\n",
    "\n",
    "    while decNumber > 0 :\n",
    "        rem = decNumber % base\n",
    "        remstack.push(rem)\n",
    "        decNumber = decNumber // base\n",
    "    \n",
    "    newString = ''\n",
    "    while not remstack.isempty():\n",
    "        newString = newString + digits[remstack.pop()]\n",
    "    \n",
    "    return newString\n",
    "\n",
    "baseconverter(100,2)"
   ]
  },
  {
   "cell_type": "markdown",
   "metadata": {},
   "source": [
    "## 后序表达式转换"
   ]
  },
  {
   "cell_type": "code",
   "execution_count": 9,
   "metadata": {},
   "outputs": [
    {
     "data": {
      "text/plain": [
       "'A B + C D + *'"
      ]
     },
     "execution_count": 9,
     "metadata": {},
     "output_type": "execute_result"
    }
   ],
   "source": [
    "import string\n",
    "\n",
    "def infixToPostfix(infixexpr):\n",
    "    prec = {'*':3,'/':3,'+':2,'-':2,'(':1}\n",
    "\n",
    "    opstack = stack()\n",
    "    postfixList = []\n",
    "\n",
    "    tokenlist = infixexpr.split()\n",
    "\n",
    "    for token in tokenlist:\n",
    "        if token in string.ascii_uppercase:\n",
    "            postfixList.append(token)\n",
    "            # 字母运算符直接放入结果中\n",
    "        elif token == '(':\n",
    "            opstack.push(token)\n",
    "            # 左括号入栈，因为要等待对应的右括号，括号中的运算符提升优先级\n",
    "        elif token == ')':\n",
    "            topToken = opstack.pop()\n",
    "            while topToken != '(':\n",
    "                postfixList.append(topToken)\n",
    "                topToken = opstack.pop()\n",
    "                # 遇到右括号时，不断从栈中取出元素，直到对应的左括号，注意这样左右括号都不会出现在最后的结果中\n",
    "        else:\n",
    "            while(not opstack.isempty()) and (prec[opstack.peek()]>=prec[token]):\n",
    "                postfixList.append(opstack.pop())\n",
    "            opstack.push(token)\n",
    "                # 当遇到运算符时比较它和栈顶符号的运算优先级\n",
    "    while not opstack.isempty():\n",
    "        postfixList.append(opstack.pop())\n",
    "        # 最后把栈中剩余运算符依次加入\n",
    "    return ' '.join(postfixList)\n",
    "\n",
    "infixToPostfix('( A + B ) * ( C + D )')"
   ]
  },
  {
   "cell_type": "markdown",
   "metadata": {},
   "source": [
    "## 后序表达式计算"
   ]
  },
  {
   "cell_type": "code",
   "execution_count": 10,
   "metadata": {},
   "outputs": [
    {
     "data": {
      "text/plain": [
       "88"
      ]
     },
     "execution_count": 10,
     "metadata": {},
     "output_type": "execute_result"
    }
   ],
   "source": [
    "def postfixEval(postfixExpr):\n",
    "    operandstack = stack()\n",
    "\n",
    "    tokenList = postfixExpr.split(' ')\n",
    "\n",
    "    for token in tokenList:\n",
    "        if token in '0123456789':\n",
    "            operandstack.push(int(token))\n",
    "        else:\n",
    "            operand2 = operandstack.pop()\n",
    "            operand1 = operandstack.pop()\n",
    "            result = calculate(operand1,operand2,token)\n",
    "            operandstack.push(result)\n",
    "    \n",
    "    return operandstack.pop()\n",
    "\n",
    "def calculate(num1,num2,token):\n",
    "    if token == '+':\n",
    "        return num1 + num2\n",
    "    elif token == '-':\n",
    "        return num1 - num2\n",
    "    elif token == '*':\n",
    "        return num1*num2\n",
    "    elif token == '/':\n",
    "        return num1/num2\n",
    "\n",
    "postfixEval('4 7 + 5 3 + *')"
   ]
  },
  {
   "cell_type": "markdown",
   "metadata": {},
   "source": [
    "# 队列的应用"
   ]
  },
  {
   "cell_type": "markdown",
   "metadata": {},
   "source": [
    "## 击鼓传花"
   ]
  },
  {
   "cell_type": "code",
   "execution_count": 11,
   "metadata": {},
   "outputs": [
    {
     "data": {
      "text/plain": [
       "'Eileen'"
      ]
     },
     "execution_count": 11,
     "metadata": {},
     "output_type": "execute_result"
    }
   ],
   "source": [
    "def hotpotato(namelist, num):\n",
    "    simqueue = Queue()\n",
    "    for name in namelist:\n",
    "        simqueue.enqueue(name)\n",
    "    while simqueue.size() >1:\n",
    "        for i in range(num):\n",
    "            simqueue.enqueue(simqueue.dequeue())\n",
    "        simqueue.dequeue()\n",
    "    return simqueue.dequeue()\n",
    "\n",
    "hotpotato(['Ava','Bella','Carol','Diana','Eileen'],num=10)"
   ]
  },
  {
   "cell_type": "markdown",
   "metadata": {},
   "source": [
    "## 打印机排队问题"
   ]
  },
  {
   "cell_type": "code",
   "execution_count": 12,
   "metadata": {},
   "outputs": [
    {
     "name": "stdout",
     "output_type": "stream",
     "text": [
      "Average wait 65.11764705882354 secs.\n",
      "Average wait 47.4375 secs.\n",
      "Average wait 65.42857142857143 secs.\n",
      "Average wait 47.61538461538461 secs.\n",
      "Average wait 260.04347826086956 secs.\n",
      "Average wait 253.30434782608697 secs.\n",
      "Average wait 60.30434782608695 secs.\n",
      "Average wait 40.93333333333333 secs.\n",
      "Average wait 181.45454545454547 secs.\n",
      "Average wait 97.38888888888889 secs.\n"
     ]
    }
   ],
   "source": [
    "class printer:\n",
    "    def __init__(self,ppm):\n",
    "        self.pagerate = ppm # page per minute\n",
    "        self.currentTask = None\n",
    "        self.timeRemaining = 0\n",
    "    \n",
    "    def tick(self):\n",
    "        if self.currentTask != None:\n",
    "            self.timeRemaining -= 1\n",
    "            if self.timeRemaining <= 0:\n",
    "                self.currentTask = None\n",
    "    \n",
    "    def busy(self):\n",
    "        if self.currentTask != None:\n",
    "            return True\n",
    "        else:\n",
    "            return False\n",
    "    \n",
    "    def startNext(self, newtask):\n",
    "        self.currentTask = newtask\n",
    "        self.timeRemaining = newtask.getPages()*60/self.pagerate\n",
    "\n",
    "\n",
    "import random\n",
    "class Task:\n",
    "    def __init__(self, time):\n",
    "        self.timestamp = time\n",
    "        self.pages = random.randrange(1,21)\n",
    "\n",
    "    def getStamp(self):\n",
    "        return self.timestamp\n",
    "\n",
    "    def getPages(self):\n",
    "        return self.pages\n",
    "    \n",
    "    def waitTime(self, currenttime):\n",
    "        return currenttime-self.timestamp\n",
    "\n",
    "\n",
    "def simulation(numSeconds, pagesPerMinute):\n",
    "\n",
    "    labprinter = printer(pagesPerMinute)\n",
    "    printqueue = Queue()\n",
    "    waitingtimes = []\n",
    "\n",
    "    for currentSecond in range(numSeconds):\n",
    "\n",
    "        if newPrintTask():\n",
    "            task = Task(currentSecond)\n",
    "            printqueue.enqueue(task)\n",
    "        \n",
    "        if (not labprinter.busy()) and (not printqueue.isEmpty()):\n",
    "            nexttask = printqueue.dequeue()\n",
    "            waitingtimes.append(nexttask.waitTime(currentSecond))\n",
    "            labprinter.startNext(nexttask)\n",
    "\n",
    "        labprinter.tick()\n",
    "    \n",
    "    averageWait = sum(waitingtimes)/len(waitingtimes)\n",
    "    print(f'Average wait {averageWait} secs.')\n",
    "\n",
    "\n",
    "def newPrintTask():\n",
    "    num = random.randrange(1,181)\n",
    "    if num == 180:\n",
    "        return True\n",
    "    else:\n",
    "        return False\n",
    "\n",
    "\n",
    "for i in range(10):\n",
    "    simulation(3600,5)"
   ]
  },
  {
   "cell_type": "markdown",
   "metadata": {},
   "source": [
    "# 双端队列应用"
   ]
  },
  {
   "cell_type": "markdown",
   "metadata": {},
   "source": [
    "## 回文检测"
   ]
  },
  {
   "cell_type": "code",
   "execution_count": 7,
   "metadata": {},
   "outputs": [
    {
     "data": {
      "text/plain": [
       "True"
      ]
     },
     "execution_count": 7,
     "metadata": {},
     "output_type": "execute_result"
    }
   ],
   "source": [
    "def palchecker(aString):\n",
    "    chardeque = Deque()\n",
    "\n",
    "    for ch in aString:\n",
    "        chardeque.addRear(ch)\n",
    "    \n",
    "    stillEqual = True\n",
    "\n",
    "    while chardeque.size() > 1 and stillEqual:\n",
    "        first = chardeque.removeFront()\n",
    "        last = chardeque.removeRear()\n",
    "        if first != last:\n",
    "            stillEqual == False\n",
    "    \n",
    "    return stillEqual\n",
    "\n",
    "palchecker('bobob')"
   ]
  },
  {
   "cell_type": "markdown",
   "metadata": {},
   "source": [
    "# 递归"
   ]
  },
  {
   "cell_type": "markdown",
   "metadata": {},
   "source": [
    "## 递归求和"
   ]
  },
  {
   "cell_type": "code",
   "execution_count": 10,
   "metadata": {},
   "outputs": [
    {
     "data": {
      "text/plain": [
       "15"
      ]
     },
     "execution_count": 10,
     "metadata": {},
     "output_type": "execute_result"
    }
   ],
   "source": [
    "def listsum(numlist):\n",
    "    if len(numlist) == 1:\n",
    "        return numlist[0]\n",
    "    else:\n",
    "        return  numlist[0]+listsum(numlist[1:])\n",
    "\n",
    "listsum([1,2,3,4,5])"
   ]
  },
  {
   "cell_type": "markdown",
   "metadata": {},
   "source": [
    "## 递归解决进制转换"
   ]
  },
  {
   "cell_type": "code",
   "execution_count": 12,
   "metadata": {},
   "outputs": [
    {
     "data": {
      "text/plain": [
       "'1100100'"
      ]
     },
     "execution_count": 12,
     "metadata": {},
     "output_type": "execute_result"
    }
   ],
   "source": [
    "def toStr(n, base):\n",
    "    convertString = '0123456789ABCDEF'\n",
    "    if n<base:\n",
    "        return convertString[n]\n",
    "    else:\n",
    "        return toStr(n//base,base) + convertString[n%base]\n",
    "\n",
    "toStr(100,2)"
   ]
  },
  {
   "cell_type": "markdown",
   "metadata": {},
   "source": [
    "## 分形树绘制"
   ]
  },
  {
   "cell_type": "code",
   "execution_count": null,
   "metadata": {},
   "outputs": [],
   "source": [
    "def tree(branchLen,t):\n",
    "    if branchLen>5:\n",
    "        t.forward(branchLen)\n",
    "        t.right(20)\n",
    "        tree(branchLen-15,t)\n",
    "        t.left(40)\n",
    "        tree(branchLen-10,t)\n",
    "        t.right(20)\n",
    "        t.backward(branchLen)\n",
    "\n",
    "from turtle import *\n",
    "t = Turtle()\n",
    "myWin = t.getscreen()\n",
    "t.left(90)\n",
    "t.up()\n",
    "t.backward(300)\n",
    "t.down()\n",
    "t.color('green')\n",
    "tree(110,t)\n",
    "myWin.exitionclock()"
   ]
  },
  {
   "cell_type": "markdown",
   "metadata": {},
   "source": [
    "## 汉诺塔问题"
   ]
  },
  {
   "cell_type": "code",
   "execution_count": null,
   "metadata": {},
   "outputs": [],
   "source": [
    "def movedisk(fp,tp):\n",
    "    print('moving disk from',fp,'to',tp)\n",
    "\n",
    "def moveTower(height, frompole, toploe, withpole):\n",
    "    if height >= 1:\n",
    "        moveTower(height-1,frompole,toploe,withpole)\n",
    "        movedisk(frompole,toploe)\n",
    "        moveTower(height-1,frompole,toploe,withpole)"
   ]
  },
  {
   "cell_type": "markdown",
   "metadata": {},
   "source": [
    "# 搜索和排序"
   ]
  },
  {
   "cell_type": "markdown",
   "metadata": {},
   "source": [
    "## 顺序搜索"
   ]
  },
  {
   "cell_type": "code",
   "execution_count": null,
   "metadata": {},
   "outputs": [],
   "source": [
    "## 无序列表\n",
    "def sequentialsearch(alist, item):\n",
    "    pos = 0\n",
    "    found = False\n",
    "\n",
    "    while pos < len(alist) and not found:\n",
    "        if alist[pos] == item:\n",
    "            found =True\n",
    "        else:\n",
    "            pos = pos +1\n",
    "\n",
    "## 有序列表\n",
    "def orderedsequentialsearch(alist, item):\n",
    "    pos = 0\n",
    "    found = False\n",
    "    stop = False\n",
    "    while pos< len(alist) and not found and not stop:\n",
    "        if alist[pos] == item:\n",
    "            found = True\n",
    "        else:\n",
    "            if alist[pos] > item:\n",
    "                True\n",
    "            else:\n",
    "                pos += 1\n",
    "    return found"
   ]
  },
  {
   "cell_type": "markdown",
   "metadata": {},
   "source": [
    "## 二分搜索"
   ]
  },
  {
   "cell_type": "code",
   "execution_count": null,
   "metadata": {},
   "outputs": [],
   "source": [
    "def binarysearch(alist, item):\n",
    "    first = 0\n",
    "    last = len(alist) - 1\n",
    "    found = False\n",
    "\n",
    "    while first <= last and not found:\n",
    "        midpoint = (first+last) // 2\n",
    "        if alist[midpoint] == item:\n",
    "            found = True\n",
    "        else:\n",
    "            if item < alist[midpoint]:\n",
    "                last = midpoint-1\n",
    "            else:\n",
    "                first = midpoint+1\n",
    "    return found"
   ]
  },
  {
   "cell_type": "markdown",
   "metadata": {},
   "source": [
    "## 散列"
   ]
  },
  {
   "cell_type": "code",
   "execution_count": null,
   "metadata": {},
   "outputs": [],
   "source": [
    "def hash(astring, tablesize):\n",
    "    sum = 0\n",
    "    for pos in range(len(astring)):\n",
    "        sum += ord(astring[pos])*(pos+1)    # 字符位子作为权重，这样异序词有不同的哈希值\n",
    "    return sum%tablesize"
   ]
  },
  {
   "cell_type": "markdown",
   "metadata": {},
   "source": [
    "## 排序方法"
   ]
  },
  {
   "cell_type": "code",
   "execution_count": 3,
   "metadata": {},
   "outputs": [],
   "source": [
    "def bubblesort(alist):\n",
    "    for passnum in range(len(alist)-1,0,-1):\n",
    "        for i in range(passnum):\n",
    "            if alist[i] > alist[i+1]:\n",
    "                temp = alist[i]         ## 也可以用同时赋值，一行语句实现\n",
    "                alist[i] = alist[i+1]   \n",
    "                alist[i+1] = temp\n",
    "\n",
    "## 修改版：如果一次遍历中没有发生位置交换，那么列表已经排序好\n",
    "\n",
    "def shortbubblesort(alist):\n",
    "    exchanges = True\n",
    "    passnum = len(alist) -1\n",
    "    while passnum>0 and exchanges:\n",
    "        exchanges = False\n",
    "        for i in range(passnum):\n",
    "            if alist[i] > alist[i+1]:\n",
    "                exchanges =True\n",
    "                temp = alist[i]\n",
    "                alist[i] =alist[i+1]\n",
    "                alist[i+1] = temp\n",
    "        passnum = passnum -1\n",
    "    return alist"
   ]
  },
  {
   "cell_type": "code",
   "execution_count": 4,
   "metadata": {},
   "outputs": [
    {
     "data": {
      "text/plain": [
       "[1, 2, 3, 4, 5, 6, 6, 44, 74]"
      ]
     },
     "execution_count": 4,
     "metadata": {},
     "output_type": "execute_result"
    }
   ],
   "source": [
    "shortbubblesort([1,4,5,3,2,44,6,6,74])"
   ]
  },
  {
   "cell_type": "code",
   "execution_count": 6,
   "metadata": {},
   "outputs": [
    {
     "data": {
      "text/plain": [
       "[1, 2, 3, 4, 5, 6, 6, 44, 74]"
      ]
     },
     "execution_count": 6,
     "metadata": {},
     "output_type": "execute_result"
    }
   ],
   "source": [
    "def selectionsort(alist):\n",
    "    for fillslot in range(len(alist)-1,0,-1):\n",
    "        positionofmax = 0\n",
    "        for location in range(1,fillslot+1):\n",
    "            if alist[location] > alist[positionofmax]:\n",
    "                positionofmax = location\n",
    "        \n",
    "        temp = alist[fillslot]\n",
    "        alist[fillslot] = alist[positionofmax]\n",
    "        alist[positionofmax] = temp\n",
    "    return alist\n",
    "selectionsort([1,4,5,3,2,44,6,6,74])"
   ]
  },
  {
   "cell_type": "code",
   "execution_count": 9,
   "metadata": {},
   "outputs": [
    {
     "data": {
      "text/plain": [
       "[1, 2, 3, 4, 5, 6, 6, 44, 74]"
      ]
     },
     "execution_count": 9,
     "metadata": {},
     "output_type": "execute_result"
    }
   ],
   "source": [
    "## 插入排序\n",
    "\n",
    "def insertionsort(alist):\n",
    "    for index in range(1,len(alist)):\n",
    "        currentvalue = alist[index] # 先把要插入的值存起来\n",
    "        position = index\n",
    "        \n",
    "        while position >0 and alist[position-1]>currentvalue:   # 遍历，找到要插入的位置\n",
    "            alist[position] = alist[position-1]\n",
    "            position = position-1\n",
    "        \n",
    "        alist[position] = currentvalue\n",
    "    return alist\n",
    "insertionsort([1,4,5,3,2,44,6,6,74])"
   ]
  },
  {
   "cell_type": "code",
   "execution_count": 13,
   "metadata": {},
   "outputs": [
    {
     "name": "stdout",
     "output_type": "stream",
     "text": [
      "After increments of size 4 The list is [20, 26, 44, 17, 54, 31, 93, 55, 77]\n",
      "After increments of size 2 The list is [20, 17, 44, 26, 54, 31, 77, 55, 93]\n",
      "After increments of size 1 The list is [17, 20, 26, 31, 44, 54, 55, 77, 93]\n"
     ]
    }
   ],
   "source": [
    "## 希尔排序：先切分为子列表，再应用插入排序\n",
    "\n",
    "def shellsort(alist):\n",
    "    sublistcount = len(alist)//2\n",
    "    while sublistcount > 0:\n",
    "        for startposition in range(sublistcount):\n",
    "            gapinsertionsort(alist,startposition,sublistcount)\n",
    "        print('After increments of size',sublistcount,'The list is',alist)\n",
    "        sublistcount = sublistcount//2\n",
    "\n",
    "def gapinsertionsort(alist,start,gap):\n",
    "    for i in range(start+gap,len(alist),gap):\n",
    "        currentvalue = alist[i]\n",
    "        position = i\n",
    "        while position >= gap and alist[position-gap]>currentvalue:\n",
    "            alist[position] = alist[position-gap]\n",
    "            position = position - gap\n",
    "        alist[position] = currentvalue\n",
    "\n",
    "shellsort([54,26,93,17,77,31,44,55,20])"
   ]
  },
  {
   "cell_type": "code",
   "execution_count": 14,
   "metadata": {},
   "outputs": [
    {
     "name": "stdout",
     "output_type": "stream",
     "text": [
      "Splitting [54, 26, 93, 17, 77, 31, 44, 55, 20]\n",
      "Splitting [54, 26, 93, 17]\n",
      "Splitting [54, 26]\n",
      "Splitting [54]\n",
      "Merging [54]\n",
      "Splitting [26]\n",
      "Merging [26]\n",
      "Merging [26, 54]\n",
      "Splitting [93, 17]\n",
      "Splitting [93]\n",
      "Merging [93]\n",
      "Splitting [17]\n",
      "Merging [17]\n",
      "Merging [17, 93]\n",
      "Merging [17, 26, 54, 93]\n",
      "Splitting [77, 31, 44, 55, 20]\n",
      "Splitting [77, 31]\n",
      "Splitting [77]\n",
      "Merging [77]\n",
      "Splitting [31]\n",
      "Merging [31]\n",
      "Merging [31, 77]\n",
      "Splitting [44, 55, 20]\n",
      "Splitting [44]\n",
      "Merging [44]\n",
      "Splitting [55, 20]\n",
      "Splitting [55]\n",
      "Merging [55]\n",
      "Splitting [20]\n",
      "Merging [20]\n",
      "Merging [20, 55]\n",
      "Merging [20, 44, 55]\n",
      "Merging [20, 31, 44, 55, 77]\n",
      "Merging [17, 20, 26, 31, 44, 54, 55, 77, 93]\n"
     ]
    }
   ],
   "source": [
    "# 归并排序函数\n",
    "\n",
    "def mergesort(alist):\n",
    "    print('Splitting',alist)\n",
    "    if len(alist)>1:\n",
    "        mid = len(alist)//2\n",
    "        lefthalf = alist[:mid]\n",
    "        righthalf = alist[mid:]\n",
    "\n",
    "        mergesort(lefthalf)\n",
    "        mergesort(righthalf)\n",
    "\n",
    "        i=0\n",
    "        j=0\n",
    "        k=0\n",
    "        while i <len(lefthalf) and j<len(righthalf):\n",
    "            if lefthalf[i] <righthalf[j]:\n",
    "                alist[k] = lefthalf[i]\n",
    "                i = i+1\n",
    "            else:\n",
    "                alist[k] = righthalf[j]\n",
    "                j = j+1\n",
    "            k = k+1\n",
    "        while i < len(lefthalf):\n",
    "            alist[k] = lefthalf[i]\n",
    "            i = i+1\n",
    "            k = k+1\n",
    "        while j < len(righthalf):\n",
    "            alist[k] = righthalf[j]\n",
    "            j = j+1\n",
    "            k = k+1\n",
    "    print('Merging',alist)\n",
    "\n",
    "mergesort([54,26,93,17,77,31,44,55,20])"
   ]
  },
  {
   "cell_type": "code",
   "execution_count": null,
   "metadata": {},
   "outputs": [],
   "source": [
    "## 快速排序\n",
    "\n",
    "def quicksort(alist):\n",
    "    quicksorthelper(alist,0,len(alist)-1)\n",
    "\n",
    "def quicksorthelper(alist,first,last):\n",
    "    if first<last:\n",
    "        splitpoint = partition(alist,first,last)\n",
    "        quicksorthelper(alist,first,splitpoint-1)\n",
    "        quicksorthelper(alist,splitpoint+1,last)\n",
    "\n",
    "def partition(alist,first,last):\n",
    "    pivotvalue = alist[first]\n",
    "    leftmark = first+1\n",
    "    rightmark = last\n",
    "    done = False\n",
    "    while not done:\n",
    "        while leftmark <= rightmark and alist[leftmark]<=pivotvalue:\n",
    "            leftmark = leftmark + 1\n",
    "        while rightmark >= leftmark and alist[rightmark] >= pivotvalue:\n",
    "            rightmark = rightmark - 1\n",
    "        if rightmark < leftmark:\n",
    "            done = True\n",
    "        else:\n",
    "            temp = alist[leftmark]  # 互换，把比基准值小的都放到左边，大的都放到右边\n",
    "            alist[leftmark] = alist[rightmark]\n",
    "            alist[rightmark] = temp\n",
    "    temp = alist[first]\n",
    "    alist[first] = alist[rightmark]\n",
    "    alist[rightmark] = temp\n",
    "\n",
    "    return rightmark"
   ]
  },
  {
   "cell_type": "markdown",
   "metadata": {},
   "source": [
    "# 解析树"
   ]
  },
  {
   "cell_type": "code",
   "execution_count": null,
   "metadata": {},
   "outputs": [],
   "source": [
    "from data_structure import binarytree\n",
    "from data_structure import stack\n",
    "import operator\n",
    "\n",
    "def bulidParseTree(fpexp):\n",
    "    fplist = fpexp.split()\n",
    "    pstack = stack()\n",
    "    eTree = binarytree('')\n",
    "    pstack.push(eTree)\n",
    "    currentTree = eTree\n",
    "    for i in fplist:\n",
    "        if i == '(':\n",
    "            currentTree.insertleft('')\n",
    "            pstack.push(currentTree)\n",
    "            currentTree = currentTree.getleftchild()\n",
    "        elif i not in '+-*/)':\n",
    "            currentTree.setrootval(eval(i))\n",
    "        elif i in '+-*/':\n",
    "            currentTree.setrootval(i)\n",
    "            currentTree.insertright('')\n",
    "            pstack.push(currentTree)\n",
    "            currentTree = currentTree.getrightchild()\n",
    "        elif i == ')':\n",
    "            currentTree = pstack.pop()\n",
    "        else:\n",
    "            raise ValueError('Unknown operator: '+i)\n",
    "    return eTree\n",
    "\n",
    "def evaluate(parsetree):\n",
    "    opers = {'+':operator.add,'-':operator.sub,'*':operator.mul,'/':operator.truediv}\n",
    "    leftc = parsetree.getleftchild()\n",
    "    rightc = parsetree.getrightchild()\n",
    "    \n",
    "    if leftc and rightc:\n",
    "        fn = opers[parsetree.getrootval()]\n",
    "        return fn(evaluate(leftc),evaluate(rightc))\n",
    "    else:\n",
    "        return parsetree.getrootval()"
   ]
  }
 ],
 "metadata": {
  "interpreter": {
   "hash": "aee8b7b246df8f9039afb4144a1f6fd8d2ca17a180786b69acc140d282b71a49"
  },
  "kernelspec": {
   "display_name": "Python 3.9.7 64-bit",
   "language": "python",
   "name": "python3"
  },
  "language_info": {
   "codemirror_mode": {
    "name": "ipython",
    "version": 3
   },
   "file_extension": ".py",
   "mimetype": "text/x-python",
   "name": "python",
   "nbconvert_exporter": "python",
   "pygments_lexer": "ipython3",
   "version": "3.9.7"
  },
  "orig_nbformat": 4
 },
 "nbformat": 4,
 "nbformat_minor": 2
}
